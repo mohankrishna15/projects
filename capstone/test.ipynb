{
 "cells": [
  {
   "cell_type": "code",
   "execution_count": 36,
   "metadata": {
    "collapsed": true,
    "deletable": true,
    "editable": true
   },
   "outputs": [],
   "source": [
    "import tensorflow as tf\n",
    "from six.moves import cPickle\n",
    "import numpy as np\n",
    "import time\n",
    "from matplotlib import pyplot as plt\n",
    "from PIL import Image\n",
    "from scipy import misc\n",
    "import glob"
   ]
  },
  {
   "cell_type": "code",
   "execution_count": 37,
   "metadata": {
    "collapsed": true,
    "deletable": true,
    "editable": true
   },
   "outputs": [],
   "source": [
    "# Loading net skeleton with parameters name and shapes.\n",
    "with open(\"util/net_skeleton.ckpt\", \"rb\") as f:\n",
    "    net_skeleton = cPickle.load(f)"
   ]
  },
  {
   "cell_type": "code",
   "execution_count": 38,
   "metadata": {
    "collapsed": true,
    "deletable": true,
    "editable": true
   },
   "outputs": [],
   "source": [
    "num_layers    = [2, 2, 3, 3, 3, 1, 1, 1]\n",
    "dilations     = [[1, 1],\n",
    "                 [1, 1],\n",
    "                 [1, 1, 1],\n",
    "                 [1, 1, 1],\n",
    "                 [2, 2, 2],\n",
    "                 [12], \n",
    "                 [1], \n",
    "                 [1]]\n",
    "n_classes = 21\n",
    "ks = 3"
   ]
  },
  {
   "cell_type": "code",
   "execution_count": 39,
   "metadata": {
    "collapsed": true,
    "deletable": true,
    "editable": true
   },
   "outputs": [],
   "source": [
    "def create_variable(name, shape):\n",
    "    \"\"\"Create a convolution filter variable of the given name and shape,\n",
    "       and initialise it using Xavier initialisation \n",
    "       (http://jmlr.org/proceedings/papers/v9/glorot10a/glorot10a.pdf).\n",
    "    \"\"\"\n",
    "    initialiser = tf.contrib.layers.xavier_initializer_conv2d(dtype=tf.float32)\n",
    "    variable = tf.Variable(initialiser(shape=shape), name=name)\n",
    "    tf.summary.histogram(name, variable)\n",
    "    return variable\n",
    "\n",
    "def create_bias_variable(name, shape):\n",
    "    \"\"\"Create a bias variable of the given name and shape,\n",
    "       and initialise it to zero.\n",
    "    \"\"\"\n",
    "    initialiser = tf.constant_initializer(value=0.0, dtype=tf.float32)\n",
    "    variable = tf.Variable(initialiser(shape=shape), name=name)\n",
    "    tf.summary.histogram(name, variable)\n",
    "    return variable"
   ]
  },
  {
   "cell_type": "code",
   "execution_count": 40,
   "metadata": {
    "collapsed": true,
    "deletable": true,
    "editable": true
   },
   "outputs": [],
   "source": [
    "def neural_net_image_input(image_shape):\n",
    "        \"\"\"\n",
    "        Return a Tensor for a batch of image input\n",
    "        : image_shape: Shape of the images\n",
    "        : return: Tensor for image input.\n",
    "        \"\"\"\n",
    "        # TODO: Implement Function\n",
    "        return tf.placeholder(tf.float32,shape=(None,image_shape[0],image_shape[1],image_shape[2]),name=\"x\")\n",
    "def neural_net_label_input(image_shape):\n",
    "        \"\"\"\n",
    "        Return a Tensor for a batch of image input\n",
    "        : image_shape: Shape of the images\n",
    "        : return: Tensor for image input.\n",
    "        \"\"\"\n",
    "        # TODO: Implement Function\n",
    "        return tf.placeholder(tf.uint8,shape=(None,image_shape[0],image_shape[1],image_shape[2]),name=\"y\")\n",
    "\n",
    "def neural_net_keep_prob_input():\n",
    "    \"\"\"\n",
    "    Return a Tensor for keep probability\n",
    "    : return: Tensor for keep probability.\n",
    "    \"\"\"\n",
    "    # TODO: Implement Function\n",
    "    return tf.placeholder(tf.float32,name=\"keep_prob\")"
   ]
  },
  {
   "cell_type": "code",
   "execution_count": 41,
   "metadata": {
    "collapsed": true,
    "deletable": true,
    "editable": true
   },
   "outputs": [],
   "source": [
    "class DeepLabLFOVModel(object):\n",
    "    def __init__(self, weights_path=None):\n",
    "        self.variables = self._create_variables(weights_path)\n",
    "    \n",
    "    def _create_variables(self, weights_path):\n",
    "        var = list()\n",
    "        index = 0\n",
    "        \n",
    "        if weights_path is not None:\n",
    "            with open(weights_path, \"rb\") as f:\n",
    "                weights = cPickle.load(f) # Load pre-trained weights.\n",
    "                for name, shape in net_skeleton:\n",
    "                    var.append(tf.Variable(weights[name],\n",
    "                                           name=name))\n",
    "                del weights\n",
    "        else:\n",
    "            # Initialise all weights randomly with the Xavier scheme,\n",
    "            # and \n",
    "            # all biases to 0's.\n",
    "            for name, shape in net_skeleton:\n",
    "                if \"/w\" in name: # Weight filter.\n",
    "                    w = create_variable(name, list(shape))\n",
    "                    var.append(w)\n",
    "                else:\n",
    "                    b = create_bias_variable(name, list(shape))\n",
    "                    var.append(b)\n",
    "        return var\n",
    "    \n",
    "    def _create_network(self, input_batch, keep_prob):\n",
    "        \n",
    "        current = input_batch\n",
    "        v_idx = 0\n",
    "        for b_idx in range(len(dilations) - 1):\n",
    "            for l_idx, dilation in enumerate(dilations[b_idx]):\n",
    "                w = self.variables[v_idx * 2]\n",
    "                b = self.variables[v_idx * 2 + 1]\n",
    "                if dilation == 1:\n",
    "                    conv = tf.nn.conv2d(current, w, strides=[1, 1, 1, 1], padding='SAME')\n",
    "                else:\n",
    "                    conv = tf.nn.atrous_conv2d(current, w, dilation, padding='SAME')\n",
    "                current = tf.nn.relu(tf.nn.bias_add(conv, b))\n",
    "                v_idx += 1\n",
    "                \n",
    "            if b_idx < 3:\n",
    "                current = tf.nn.max_pool(current, \n",
    "                                         ksize=[1, ks, ks, 1],\n",
    "                                         strides=[1, 2, 2, 1],\n",
    "                                         padding='SAME')\n",
    "            elif b_idx == 3:\n",
    "                current = tf.nn.max_pool(current, \n",
    "                             ksize=[1, ks, ks, 1],\n",
    "                             strides=[1, 1, 1, 1],\n",
    "                             padding='SAME')\n",
    "            elif b_idx == 4:\n",
    "                current = tf.nn.max_pool(current, \n",
    "                                         ksize=[1, ks, ks, 1],\n",
    "                                         strides=[1, 1, 1, 1],\n",
    "                                         padding='SAME')\n",
    "                current = tf.nn.avg_pool(current, \n",
    "                                         ksize=[1, ks, ks, 1],\n",
    "                                         strides=[1, 1, 1, 1],\n",
    "                                         padding='SAME')\n",
    "            elif b_idx <= 6:\n",
    "                current = tf.nn.dropout(current, keep_prob=keep_prob)\n",
    "        \n",
    "        # Classification layer; no ReLU.\n",
    "        w = self.variables[v_idx * 2]\n",
    "        b = self.variables[v_idx * 2 + 1]\n",
    "        conv = tf.nn.conv2d(current, w, strides=[1, 1, 1, 1], padding='SAME')\n",
    "        current = tf.nn.bias_add(conv, b)\n",
    "\n",
    "        return current\n",
    "    \n",
    "    \n",
    "    def preds(self, input_batch):\n",
    "        \"\"\"Create the network and run inference on the input batch.\n",
    "        \n",
    "        Args:\n",
    "          input_batch: batch of pre-processed images.\n",
    "          \n",
    "        Returns:\n",
    "          Argmax over the predictions of the network of the same shape as the input.\n",
    "        \"\"\"\n",
    "        \n",
    "        raw_output = self._create_network(tf.cast(input_batch, tf.float32),  keep_prob=tf.constant(1.0))\n",
    "        #print(raw_output.shape)\n",
    "        raw_output = tf.image.resize_bilinear(raw_output, tf.shape(input_batch)[1:3,])\n",
    "        #print(raw_output.shape)\n",
    "        raw_output = tf.argmax(raw_output, dimension=3)\n",
    "        #print(raw_output.shape)\n",
    "        raw_output = tf.expand_dims(raw_output, dim=3) # Create 4D-tensor.\n",
    "        #print(raw_output.shape)\n",
    "        return tf.cast(raw_output, tf.uint8)\n",
    "    \n",
    "    def loss(self, img_batch, label_batch,keep_prob_input):\n",
    "        \"\"\"Create the network, run inference on the input batch and compute loss.\n",
    "        \n",
    "        Args:\n",
    "          input_batch: batch of pre-processed images.\n",
    "          \n",
    "        Returns:\n",
    "          Pixel-wise softmax loss.\n",
    "        \"\"\"\n",
    "        raw_output = self._create_network(tf.cast(img_batch, tf.float32), keep_prob_input)\n",
    "        #print(raw_output.shape)\n",
    "        \n",
    "        \n",
    "        lbels= tf.image.resize_nearest_neighbor(label_batch,tf.stack(raw_output.get_shape()[1:3]))\n",
    "        prediction = tf.reshape(raw_output, [-1, n_classes])\n",
    "        lbels = tf.squeeze(lbels, squeeze_dims=[3]) # Reducing the channel dimension.\n",
    "        lbels = tf.one_hot(lbels, depth=21)\n",
    "        gt = tf.reshape(lbels, [-1, n_classes])\n",
    "        #print(label_batch.shape)\n",
    "        # Pixel-wise softmax loss.\n",
    "        loss = tf.nn.softmax_cross_entropy_with_logits(logits=prediction, labels=gt)\n",
    "        reduced_loss = tf.reduce_mean(loss)\n",
    "        return reduced_loss"
   ]
  },
  {
   "cell_type": "code",
   "execution_count": 42,
   "metadata": {
    "collapsed": true,
    "deletable": true,
    "editable": true
   },
   "outputs": [],
   "source": [
    "def prepare_label(label_batch):\n",
    "        colormap = {(0,0,0):0, (128,0,0):1, (0,128,0):2, (128,128,0):3, (0,0,128):4, (128,0,128):5, (0,128,128):6, (128,128,128):7, (64,0,0):8, (192,0,0):9, (64,128,0):10, (192,128,0):11, (64,0,128):12, (192,0,128):13, \n",
    "            (64,128,128):14, (192,128,128):15, (0,64,0):16, (128,64,0):17, (0,192,0):18, (128,192,0):19, (0,64,128):20}                                            \n",
    "        gndTruth = np.zeros((label_batch.shape[0],label_batch[0].shape[0],label_batch[0].shape[1],21), dtype=np.int)\n",
    "        for i in range(label_batch.shape[0]):\n",
    "            for j in range(label_batch[0].shape[0]):\n",
    "                for k in range(label_batch[0].shape[1]):   \n",
    "                    if(colormap.get(tuple(label_batch[i][j,k]))):\n",
    "                        gndTruth[i,j,k,colormap.get(tuple(label_batch[i][j,k]))] = 1\n",
    "                    else:\n",
    "                        gndTruth[i,j,k,0] = 1\n",
    "        return gndTruth"
   ]
  },
  {
   "cell_type": "code",
   "execution_count": 43,
   "metadata": {
    "collapsed": true,
    "deletable": true,
    "editable": true
   },
   "outputs": [],
   "source": [
    "# Colour map.\n",
    "label_colours = [(0,0,0)\n",
    "                # 0=background\n",
    "                ,(128,0,0),(0,128,0),(128,128,0),(0,0,128),(128,0,128)\n",
    "                # 1=aeroplane, 2=bicycle, 3=bird, 4=boat, 5=bottle\n",
    "                ,(0,128,128),(128,128,128),(64,0,0),(192,0,0),(64,128,0)\n",
    "                # 6=bus, 7=car, 8=cat, 9=chair, 10=cow\n",
    "                ,(192,128,0),(64,0,128),(192,0,128),(64,128,128),(192,128,128)\n",
    "                # 11=diningtable, 12=dog, 13=horse, 14=motorbike, 15=person\n",
    "                ,(0,64,0),(128,64,0),(0,192,0),(128,192,0),(0,64,128)]\n",
    "                # 16=potted plant, 17=sheep, 18=sofa, 19=train, 20=tv/monitor\n",
    "    \n",
    "def decode_labels(mask):\n",
    "    \"\"\"Decode batch of segmentation masks.\n",
    "    \n",
    "    Args:\n",
    "      label_batch: result of inference after taking argmax.\n",
    "    \n",
    "    Returns:\n",
    "      An batch of RGB images of the same size\n",
    "    \"\"\"\n",
    "    img = Image.new('RGB', (len(mask[0]), len(mask)))\n",
    "    pixels = img.load()\n",
    "    for j_, j in enumerate(mask):\n",
    "        for k_, k in enumerate(j):\n",
    "            if k < 21:\n",
    "                pixels[k_,j_] = label_colours[k]\n",
    "    return np.array(img)\n",
    "def encode_labels(label_batch):\n",
    "        colormap = {(0,0,0):0, (128,0,0):1, (0,128,0):2, (128,128,0):3, (0,0,128):4, (128,0,128):5, (0,128,128):6, (128,128,128):7, (64,0,0):8, (192,0,0):9, (64,128,0):10, (192,128,0):11, (64,0,128):12, (192,0,128):13, \n",
    "            (64,128,128):14, (192,128,128):15, (0,64,0):16, (128,64,0):17, (0,192,0):18, (128,192,0):19, (0,64,128):20}                                            \n",
    "        gndTruth = np.zeros((label_batch.shape[0],label_batch[0].shape[0],label_batch[0].shape[1],1), dtype=np.int)\n",
    "        for i in range(gndTruth.shape[0]):\n",
    "            for j in range(gndTruth.shape[1]):\n",
    "                for k in range(gndTruth.shape[2]):   \n",
    "                    if(colormap.get(tuple(label_batch[i][j,k]))):\n",
    "                        gndTruth[i,j,k]=colormap.get(tuple(label_batch[i][j,k]))\n",
    "                    else:\n",
    "                        gndTruth[i,j,k] = 0\n",
    "        return gndTruth"
   ]
  },
  {
   "cell_type": "code",
   "execution_count": 59,
   "metadata": {
    "collapsed": true,
    "deletable": true,
    "editable": true
   },
   "outputs": [],
   "source": [
    "def load_preprocess_training_batch(batch_id):\n",
    "    \"\"\"\n",
    "    Load the Preprocessed Training data and return them in batches of <batch_size> or less\n",
    "    \"\"\"\n",
    "    path = 'VOCdevkit/VOC2012/'\n",
    "    x='2007_000032'\n",
    "    features = np.array([misc.imread(path+\"JPEGImages/\"+x+\".jpg\")])\n",
    "    labels = np.array([misc.imread(path+\"SegmentationClass/\"+x+\".png\")])\n",
    "    # Return the training data in batches of size <batch_size> or less\n",
    "    return features, labels\n",
    "# def load_preprocess_training_batch(batch_id):\n",
    "#     \"\"\"\n",
    "#     Load the Preprocessed Training data and return them in batches of <batch_size> or less\n",
    "#     \"\"\"\n",
    "#     filename = 'data/pre_processed_batch_' + str(batch_id) + '.p'\n",
    "#     loaded_features, loaded_labels = cPickle.load(open(filename, mode='rb'))\n",
    "#     # Return the training data in batches of size <batch_size> or less\n",
    "#     return loaded_features, loaded_labels"
   ]
  },
  {
   "cell_type": "code",
   "execution_count": 58,
   "metadata": {
    "collapsed": false,
    "deletable": true,
    "editable": true
   },
   "outputs": [
    {
     "name": "stdout",
     "output_type": "stream",
     "text": [
      "WARNING:tensorflow:From <ipython-input-41-1d71c194e939>:89: calling argmax (from tensorflow.python.ops.math_ops) with dimension is deprecated and will be removed in a future version.\n",
      "Instructions for updating:\n",
      "Use the `axis` argument instead\n"
     ]
    }
   ],
   "source": [
    "save_model_path = \"experiment\"\n",
    "image_save_path = \"images/\"\n",
    "tf.reset_default_graph()\n",
    "\n",
    "# Inputs\n",
    "x = neural_net_image_input((500, 500, 3))\n",
    "y = neural_net_label_input((500, 500, 1))\n",
    "# x = tf.image.resize_image_with_crop_or_pad(x,320,320)\n",
    "# y = tf.image.resize_image_with_crop_or_pad(y,320,320)\n",
    "keep_prob = neural_net_keep_prob_input()\n",
    "keep_prob_pred=tf.placeholder(tf.float32,name=\"keep_prob_pred\")\n",
    "net = DeepLabLFOVModel()\n",
    "cost = net.loss(x, y,keep_prob)\n",
    "cost_summary=tf.summary.scalar(\"loss\",cost)\n",
    "optim = tf.train.AdamOptimizer(learning_rate=0.01).minimize(cost)\n",
    "saver = tf.train.Saver(max_to_keep=40);  \n",
    "pred = net.preds(x)"
   ]
  },
  {
   "cell_type": "code",
   "execution_count": 60,
   "metadata": {
    "collapsed": false
   },
   "outputs": [
    {
     "data": {
      "text/plain": [
       "<tf.Tensor 'x:0' shape=(?, 500, 500, 3) dtype=float32>"
      ]
     },
     "execution_count": 60,
     "metadata": {},
     "output_type": "execute_result"
    }
   ],
   "source": [
    "x"
   ]
  },
  {
   "cell_type": "code",
   "execution_count": 46,
   "metadata": {
    "collapsed": true,
    "deletable": true,
    "editable": true
   },
   "outputs": [],
   "source": [
    "sess = tf.Session()\n",
    "merged = tf.summary.merge_all()\n",
    "file_writer = tf.summary.FileWriter('logs/', sess.graph)\n",
    "sess.run(tf.global_variables_initializer())"
   ]
  },
  {
   "cell_type": "code",
   "execution_count": 47,
   "metadata": {
    "collapsed": false,
    "deletable": true,
    "editable": true
   },
   "outputs": [],
   "source": [
    "batch_i=0\n",
    "epoch=0\n",
    "keep_probability = 0.75\n",
    "IMG_MEAN = np.array((116.66876762,104.00698793,122.67891434), dtype=np.float32)\n",
    "start_time = time.time()\n",
    "batch_features, batch_labels = load_preprocess_training_batch(batch_i)"
   ]
  },
  {
   "cell_type": "code",
   "execution_count": 48,
   "metadata": {
    "collapsed": false,
    "deletable": true,
    "editable": true
   },
   "outputs": [],
   "source": [
    "img_tensor = tf.image.resize_image_with_crop_or_pad(batch_features, 500, 500)\n",
    "#batch_input_resized = batch_input_resized - IMG_MEAN\n",
    "batch_labels_tensor = tf.image.resize_image_with_crop_or_pad(batch_labels, 500, 500)"
   ]
  },
  {
   "cell_type": "code",
   "execution_count": 49,
   "metadata": {
    "collapsed": false,
    "deletable": true,
    "editable": true
   },
   "outputs": [],
   "source": [
    "img,labels = sess.run([img_tensor,batch_labels_tensor])"
   ]
  },
  {
   "cell_type": "code",
   "execution_count": 50,
   "metadata": {
    "collapsed": false,
    "deletable": true,
    "editable": true
   },
   "outputs": [],
   "source": [
    "img[:,:,:] = img[:,:,:] - IMG_MEAN"
   ]
  },
  {
   "cell_type": "code",
   "execution_count": 51,
   "metadata": {
    "collapsed": true,
    "deletable": true,
    "editable": true
   },
   "outputs": [],
   "source": [
    "batch_labels_array_new = encode_labels(labels)"
   ]
  },
  {
   "cell_type": "code",
   "execution_count": 17,
   "metadata": {
    "collapsed": false,
    "deletable": true,
    "editable": true
   },
   "outputs": [
    {
     "data": {
      "text/plain": [
       "(1, 500, 500, 3)"
      ]
     },
     "execution_count": 17,
     "metadata": {},
     "output_type": "execute_result"
    }
   ],
   "source": [
    "img.shape"
   ]
  },
  {
   "cell_type": "code",
   "execution_count": 19,
   "metadata": {
    "collapsed": false,
    "deletable": true,
    "editable": true
   },
   "outputs": [
    {
     "data": {
      "text/plain": [
       "(1, 281, 500, 3)"
      ]
     },
     "execution_count": 19,
     "metadata": {},
     "output_type": "execute_result"
    }
   ],
   "source": [
    "batch_features.shape"
   ]
  },
  {
   "cell_type": "code",
   "execution_count": 55,
   "metadata": {
    "collapsed": false,
    "deletable": true,
    "editable": true
   },
   "outputs": [],
   "source": [
    "for epoch in range(0,1):\n",
    "    loss_value,op,_=sess.run([cost,pred,optim],feed_dict={x:img,y:batch_labels_array_new,keep_prob:keep_probability,keep_prob_pred:1.0})\n",
    "    #file_writer.add_summary(summary_variable, epoch)"
   ]
  },
  {
   "cell_type": "code",
   "execution_count": 489,
   "metadata": {
    "collapsed": false,
    "deletable": true,
    "editable": true
   },
   "outputs": [],
   "source": [
    "raw_output = net._create_network(x, keep_prob)"
   ]
  },
  {
   "cell_type": "code",
   "execution_count": 490,
   "metadata": {
    "collapsed": false,
    "deletable": true,
    "editable": true
   },
   "outputs": [],
   "source": [
    "res1=sess.run(raw_output,feed_dict={x:img,keep_prob:keep_probability})"
   ]
  },
  {
   "cell_type": "code",
   "execution_count": 491,
   "metadata": {
    "collapsed": false,
    "deletable": true,
    "editable": true
   },
   "outputs": [
    {
     "data": {
      "text/plain": [
       "TensorShape([Dimension(None), Dimension(63), Dimension(63), Dimension(21)])"
      ]
     },
     "execution_count": 491,
     "metadata": {},
     "output_type": "execute_result"
    }
   ],
   "source": [
    "raw_output.shape"
   ]
  },
  {
   "cell_type": "code",
   "execution_count": 492,
   "metadata": {
    "collapsed": false,
    "deletable": true,
    "editable": true
   },
   "outputs": [
    {
     "data": {
      "text/plain": [
       "1"
      ]
     },
     "execution_count": 492,
     "metadata": {},
     "output_type": "execute_result"
    }
   ],
   "source": [
    "batch_features.shape[0]"
   ]
  },
  {
   "cell_type": "code",
   "execution_count": 22,
   "metadata": {
    "collapsed": false,
    "deletable": true,
    "editable": true
   },
   "outputs": [
    {
     "data": {
      "text/plain": [
       "2253219.2"
      ]
     },
     "execution_count": 22,
     "metadata": {},
     "output_type": "execute_result"
    }
   ],
   "source": [
    "loss_value"
   ]
  },
  {
   "cell_type": "code",
   "execution_count": 494,
   "metadata": {
    "collapsed": true,
    "deletable": true,
    "editable": true
   },
   "outputs": [],
   "source": [
    "label_op= tf.image.resize_nearest_neighbor(y,tf.stack(raw_output.get_shape()[1:3]))"
   ]
  },
  {
   "cell_type": "code",
   "execution_count": 495,
   "metadata": {
    "collapsed": false,
    "deletable": true,
    "editable": true
   },
   "outputs": [],
   "source": [
    "lbl1 = sess.run(label_op,feed_dict={y:batch_labels_array_new})"
   ]
  },
  {
   "cell_type": "code",
   "execution_count": 496,
   "metadata": {
    "collapsed": false,
    "deletable": true,
    "editable": true
   },
   "outputs": [
    {
     "data": {
      "text/plain": [
       "(1, 63, 63, 1)"
      ]
     },
     "execution_count": 496,
     "metadata": {},
     "output_type": "execute_result"
    }
   ],
   "source": [
    "lbl1.shape"
   ]
  },
  {
   "cell_type": "code",
   "execution_count": 505,
   "metadata": {
    "collapsed": true,
    "deletable": true,
    "editable": true
   },
   "outputs": [],
   "source": [
    "prediction = tf.reshape(raw_output, [-1, n_classes])\n"
   ]
  },
  {
   "cell_type": "code",
   "execution_count": 506,
   "metadata": {
    "collapsed": true,
    "deletable": true,
    "editable": true
   },
   "outputs": [],
   "source": [
    "labels = tf.squeeze(label_op, squeeze_dims=[3]) # Reducing the channel dimension.\n"
   ]
  },
  {
   "cell_type": "code",
   "execution_count": 508,
   "metadata": {
    "collapsed": false,
    "deletable": true,
    "editable": true
   },
   "outputs": [],
   "source": [
    "lbl2 = sess.run(labels,feed_dict={y:batch_labels_array_new})"
   ]
  },
  {
   "cell_type": "code",
   "execution_count": 526,
   "metadata": {
    "collapsed": false,
    "deletable": true,
    "editable": true
   },
   "outputs": [
    {
     "name": "stdout",
     "output_type": "stream",
     "text": [
      "1\n",
      "1\n",
      "1\n",
      "1\n",
      "1\n",
      "1\n",
      "1\n",
      "1\n",
      "1\n",
      "1\n",
      "1\n",
      "1\n",
      "1\n",
      "1\n",
      "1\n",
      "1\n",
      "1\n",
      "1\n",
      "1\n",
      "1\n",
      "1\n",
      "1\n",
      "1\n",
      "1\n",
      "1\n",
      "1\n",
      "1\n",
      "1\n",
      "1\n",
      "1\n",
      "1\n",
      "1\n",
      "1\n",
      "1\n",
      "1\n",
      "1\n",
      "1\n",
      "1\n",
      "1\n",
      "1\n",
      "1\n",
      "1\n",
      "1\n",
      "1\n",
      "1\n",
      "1\n",
      "1\n",
      "1\n",
      "1\n",
      "1\n",
      "1\n",
      "1\n",
      "1\n",
      "1\n",
      "1\n",
      "1\n",
      "1\n",
      "1\n",
      "1\n",
      "1\n",
      "1\n",
      "1\n",
      "1\n",
      "1\n",
      "1\n",
      "1\n",
      "1\n",
      "1\n",
      "1\n",
      "1\n",
      "1\n",
      "1\n",
      "1\n",
      "1\n",
      "15\n",
      "15\n",
      "15\n",
      "15\n",
      "15\n",
      "15\n",
      "15\n",
      "15\n",
      "15\n",
      "15\n",
      "15\n",
      "15\n",
      "15\n"
     ]
    }
   ],
   "source": [
    "count=0\n",
    "for i in range(63):\n",
    "    for j in range(63):\n",
    "        if(lbl2[0,i,j]!=0):\n",
    "            print(lbl2[0,i,j])"
   ]
  },
  {
   "cell_type": "code",
   "execution_count": 512,
   "metadata": {
    "collapsed": false,
    "deletable": true,
    "editable": true
   },
   "outputs": [
    {
     "data": {
      "text/plain": [
       "87"
      ]
     },
     "execution_count": 512,
     "metadata": {},
     "output_type": "execute_result"
    }
   ],
   "source": [
    "count"
   ]
  },
  {
   "cell_type": "code",
   "execution_count": 514,
   "metadata": {
    "collapsed": true,
    "deletable": true,
    "editable": true
   },
   "outputs": [],
   "source": [
    "labels = tf.one_hot(labels, depth=21)\n"
   ]
  },
  {
   "cell_type": "code",
   "execution_count": 516,
   "metadata": {
    "collapsed": false,
    "deletable": true,
    "editable": true
   },
   "outputs": [],
   "source": [
    "lbl3 = sess.run(labels,feed_dict={y:batch_labels_array_new})"
   ]
  },
  {
   "cell_type": "code",
   "execution_count": 517,
   "metadata": {
    "collapsed": false,
    "deletable": true,
    "editable": true
   },
   "outputs": [
    {
     "data": {
      "text/plain": [
       "(1, 63, 63, 21)"
      ]
     },
     "execution_count": 517,
     "metadata": {},
     "output_type": "execute_result"
    }
   ],
   "source": [
    "lbl3.shape"
   ]
  },
  {
   "cell_type": "code",
   "execution_count": 521,
   "metadata": {
    "collapsed": false,
    "deletable": true,
    "editable": true
   },
   "outputs": [
    {
     "data": {
      "text/plain": [
       "array([[[[ 1.,  0.,  0., ...,  0.,  0.,  0.],\n",
       "         [ 1.,  0.,  0., ...,  0.,  0.,  0.],\n",
       "         [ 1.,  0.,  0., ...,  0.,  0.,  0.],\n",
       "         ..., \n",
       "         [ 1.,  0.,  0., ...,  0.,  0.,  0.],\n",
       "         [ 1.,  0.,  0., ...,  0.,  0.,  0.],\n",
       "         [ 1.,  0.,  0., ...,  0.,  0.,  0.]],\n",
       "\n",
       "        [[ 1.,  0.,  0., ...,  0.,  0.,  0.],\n",
       "         [ 1.,  0.,  0., ...,  0.,  0.,  0.],\n",
       "         [ 1.,  0.,  0., ...,  0.,  0.,  0.],\n",
       "         ..., \n",
       "         [ 1.,  0.,  0., ...,  0.,  0.,  0.],\n",
       "         [ 1.,  0.,  0., ...,  0.,  0.,  0.],\n",
       "         [ 1.,  0.,  0., ...,  0.,  0.,  0.]],\n",
       "\n",
       "        [[ 1.,  0.,  0., ...,  0.,  0.,  0.],\n",
       "         [ 1.,  0.,  0., ...,  0.,  0.,  0.],\n",
       "         [ 1.,  0.,  0., ...,  0.,  0.,  0.],\n",
       "         ..., \n",
       "         [ 1.,  0.,  0., ...,  0.,  0.,  0.],\n",
       "         [ 1.,  0.,  0., ...,  0.,  0.,  0.],\n",
       "         [ 1.,  0.,  0., ...,  0.,  0.,  0.]],\n",
       "\n",
       "        ..., \n",
       "        [[ 1.,  0.,  0., ...,  0.,  0.,  0.],\n",
       "         [ 1.,  0.,  0., ...,  0.,  0.,  0.],\n",
       "         [ 1.,  0.,  0., ...,  0.,  0.,  0.],\n",
       "         ..., \n",
       "         [ 1.,  0.,  0., ...,  0.,  0.,  0.],\n",
       "         [ 1.,  0.,  0., ...,  0.,  0.,  0.],\n",
       "         [ 1.,  0.,  0., ...,  0.,  0.,  0.]],\n",
       "\n",
       "        [[ 1.,  0.,  0., ...,  0.,  0.,  0.],\n",
       "         [ 1.,  0.,  0., ...,  0.,  0.,  0.],\n",
       "         [ 1.,  0.,  0., ...,  0.,  0.,  0.],\n",
       "         ..., \n",
       "         [ 1.,  0.,  0., ...,  0.,  0.,  0.],\n",
       "         [ 1.,  0.,  0., ...,  0.,  0.,  0.],\n",
       "         [ 1.,  0.,  0., ...,  0.,  0.,  0.]],\n",
       "\n",
       "        [[ 1.,  0.,  0., ...,  0.,  0.,  0.],\n",
       "         [ 1.,  0.,  0., ...,  0.,  0.,  0.],\n",
       "         [ 1.,  0.,  0., ...,  0.,  0.,  0.],\n",
       "         ..., \n",
       "         [ 1.,  0.,  0., ...,  0.,  0.,  0.],\n",
       "         [ 1.,  0.,  0., ...,  0.,  0.,  0.],\n",
       "         [ 1.,  0.,  0., ...,  0.,  0.,  0.]]]], dtype=float32)"
      ]
     },
     "execution_count": 521,
     "metadata": {},
     "output_type": "execute_result"
    }
   ],
   "source": [
    "lbl3"
   ]
  },
  {
   "cell_type": "code",
   "execution_count": 527,
   "metadata": {
    "collapsed": false,
    "deletable": true,
    "editable": true
   },
   "outputs": [
    {
     "name": "stdout",
     "output_type": "stream",
     "text": [
      "25 24 1 1.0\n",
      "26 24 1 1.0\n",
      "27 18 1 1.0\n",
      "27 19 1 1.0\n",
      "27 20 1 1.0\n",
      "27 21 1 1.0\n",
      "27 22 1 1.0\n",
      "27 23 1 1.0\n",
      "27 24 1 1.0\n",
      "28 18 1 1.0\n",
      "28 21 1 1.0\n",
      "28 27 1 1.0\n",
      "28 28 1 1.0\n",
      "28 29 1 1.0\n",
      "28 30 1 1.0\n",
      "28 31 1 1.0\n",
      "28 33 1 1.0\n",
      "28 34 1 1.0\n",
      "29 26 1 1.0\n",
      "29 27 1 1.0\n",
      "29 28 1 1.0\n",
      "29 29 1 1.0\n",
      "29 30 1 1.0\n",
      "29 31 1 1.0\n",
      "29 32 1 1.0\n",
      "29 33 1 1.0\n",
      "29 34 1 1.0\n",
      "30 14 1 1.0\n",
      "30 15 1 1.0\n",
      "30 16 1 1.0\n",
      "30 17 1 1.0\n",
      "30 18 1 1.0\n",
      "30 19 1 1.0\n",
      "30 20 1 1.0\n",
      "30 21 1 1.0\n",
      "30 26 1 1.0\n",
      "30 27 1 1.0\n",
      "30 28 1 1.0\n",
      "30 29 1 1.0\n",
      "30 30 1 1.0\n",
      "30 31 1 1.0\n",
      "30 43 1 1.0\n",
      "30 44 1 1.0\n",
      "30 45 1 1.0\n",
      "30 46 1 1.0\n",
      "30 47 1 1.0\n",
      "31 26 1 1.0\n",
      "31 27 1 1.0\n",
      "31 28 1 1.0\n",
      "31 29 1 1.0\n",
      "31 30 1 1.0\n",
      "31 32 1 1.0\n",
      "31 33 1 1.0\n",
      "31 34 1 1.0\n",
      "31 35 1 1.0\n",
      "32 26 1 1.0\n",
      "32 27 1 1.0\n",
      "32 28 1 1.0\n",
      "32 29 1 1.0\n",
      "32 30 1 1.0\n",
      "33 26 1 1.0\n",
      "33 27 1 1.0\n",
      "33 28 1 1.0\n",
      "33 29 1 1.0\n",
      "33 30 1 1.0\n",
      "33 33 1 1.0\n",
      "34 26 1 1.0\n",
      "34 27 1 1.0\n",
      "34 28 1 1.0\n",
      "34 29 1 1.0\n",
      "35 27 1 1.0\n",
      "35 28 1 1.0\n",
      "36 27 1 1.0\n",
      "36 28 1 1.0\n",
      "37 26 15 1.0\n",
      "38 4 15 1.0\n",
      "38 25 15 1.0\n",
      "38 26 15 1.0\n",
      "39 4 15 1.0\n",
      "39 25 15 1.0\n",
      "39 26 15 1.0\n",
      "40 4 15 1.0\n",
      "40 5 15 1.0\n",
      "40 25 15 1.0\n",
      "40 26 15 1.0\n",
      "41 25 15 1.0\n",
      "42 25 15 1.0\n"
     ]
    }
   ],
   "source": [
    "count=0\n",
    "for i in range(63):\n",
    "    for j in range(63):\n",
    "        for k in range(1,21):\n",
    "            if(lbl3[0,i,j,k]!=0):\n",
    "                print(i,j,k, lbl3[0,i,j,k])\n",
    "                count+=1"
   ]
  },
  {
   "cell_type": "code",
   "execution_count": 528,
   "metadata": {
    "collapsed": false,
    "deletable": true,
    "editable": true
   },
   "outputs": [
    {
     "data": {
      "text/plain": [
       "87"
      ]
     },
     "execution_count": 528,
     "metadata": {},
     "output_type": "execute_result"
    }
   ],
   "source": [
    "count"
   ]
  },
  {
   "cell_type": "code",
   "execution_count": null,
   "metadata": {
    "collapsed": true,
    "deletable": true,
    "editable": true
   },
   "outputs": [],
   "source": [
    "\n",
    "gt = tf.reshape(labels, [-1, n_classes])"
   ]
  },
  {
   "cell_type": "code",
   "execution_count": 499,
   "metadata": {
    "collapsed": false,
    "deletable": true,
    "editable": true
   },
   "outputs": [],
   "source": [
    "lbl2 = sess.run(gt,feed_dict={y:batch_labels_array_new})"
   ]
  },
  {
   "cell_type": "code",
   "execution_count": 533,
   "metadata": {
    "collapsed": false,
    "deletable": true,
    "editable": true
   },
   "outputs": [],
   "source": [
    "loss = tf.nn.softmax_cross_entropy_with_logits(logits=prediction, labels=gt)"
   ]
  },
  {
   "cell_type": "code",
   "execution_count": 534,
   "metadata": {
    "collapsed": false,
    "deletable": true,
    "editable": true
   },
   "outputs": [
    {
     "data": {
      "text/plain": [
       "array([ 3.32830977,  2.91328859,  2.82289863, ...,  3.4458065 ,\n",
       "        3.20261836,  3.0960083 ], dtype=float32)"
      ]
     },
     "execution_count": 534,
     "metadata": {},
     "output_type": "execute_result"
    }
   ],
   "source": [
    "sess.run(loss,feed_dict={x:img,keep_prob:keep_probability,y:batch_labels_array_new})"
   ]
  },
  {
   "cell_type": "code",
   "execution_count": 535,
   "metadata": {
    "collapsed": true,
    "deletable": true,
    "editable": true
   },
   "outputs": [],
   "source": [
    "reduced_loss = tf.reduce_mean(loss)"
   ]
  },
  {
   "cell_type": "code",
   "execution_count": 536,
   "metadata": {
    "collapsed": false,
    "deletable": true,
    "editable": true
   },
   "outputs": [
    {
     "data": {
      "text/plain": [
       "3.2123799"
      ]
     },
     "execution_count": 536,
     "metadata": {},
     "output_type": "execute_result"
    }
   ],
   "source": [
    "sess.run(reduced_loss,feed_dict={x:img,keep_prob:keep_probability,y:batch_labels_array_new})"
   ]
  },
  {
   "cell_type": "code",
   "execution_count": 537,
   "metadata": {
    "collapsed": true,
    "deletable": true,
    "editable": true
   },
   "outputs": [],
   "source": [
    "opt = sess.run(pred,feed_dict={x:img,keep_prob:keep_probability,y:batch_labels_array_new})"
   ]
  },
  {
   "cell_type": "code",
   "execution_count": 541,
   "metadata": {
    "collapsed": false,
    "deletable": true,
    "editable": true
   },
   "outputs": [
    {
     "data": {
      "text/plain": [
       "array([[[[19],\n",
       "         [19],\n",
       "         [19],\n",
       "         ..., \n",
       "         [19],\n",
       "         [19],\n",
       "         [19]],\n",
       "\n",
       "        [[19],\n",
       "         [19],\n",
       "         [19],\n",
       "         ..., \n",
       "         [19],\n",
       "         [19],\n",
       "         [19]],\n",
       "\n",
       "        [[19],\n",
       "         [19],\n",
       "         [19],\n",
       "         ..., \n",
       "         [19],\n",
       "         [19],\n",
       "         [19]],\n",
       "\n",
       "        ..., \n",
       "        [[18],\n",
       "         [18],\n",
       "         [18],\n",
       "         ..., \n",
       "         [13],\n",
       "         [13],\n",
       "         [13]],\n",
       "\n",
       "        [[18],\n",
       "         [18],\n",
       "         [18],\n",
       "         ..., \n",
       "         [13],\n",
       "         [13],\n",
       "         [13]],\n",
       "\n",
       "        [[18],\n",
       "         [18],\n",
       "         [18],\n",
       "         ..., \n",
       "         [13],\n",
       "         [13],\n",
       "         [13]]]], dtype=uint8)"
      ]
     },
     "execution_count": 541,
     "metadata": {},
     "output_type": "execute_result"
    }
   ],
   "source": [
    "opt"
   ]
  },
  {
   "cell_type": "code",
   "execution_count": 56,
   "metadata": {
    "collapsed": false,
    "deletable": true,
    "editable": true
   },
   "outputs": [
    {
     "data": {
      "text/plain": [
       "<matplotlib.image.AxesImage at 0x11f9d6e48>"
      ]
     },
     "execution_count": 56,
     "metadata": {},
     "output_type": "execute_result"
    }
   ],
   "source": [
    "plt.imshow(decode_labels(op[0,:,:,0]))"
   ]
  },
  {
   "cell_type": "code",
   "execution_count": 57,
   "metadata": {
    "collapsed": false,
    "deletable": true,
    "editable": true
   },
   "outputs": [
    {
     "data": {
      "image/png": "[encoded data removed]",
      "text/plain": [
       "<matplotlib.figure.Figure at 0x12b2e3208>"
      ]
     },
     "metadata": {},
     "output_type": "display_data"
    }
   ],
   "source": [
    "plt.show()"
   ]
  },
  {
   "cell_type": "code",
   "execution_count": null,
   "metadata": {
    "collapsed": false,
    "deletable": true,
    "editable": true
   },
   "outputs": [],
   "source": []
  },
  {
   "cell_type": "code",
   "execution_count": 433,
   "metadata": {
    "collapsed": false,
    "deletable": true,
    "editable": true
   },
   "outputs": [],
   "source": [
    "lbls = decode_labels(op[0,:,:,0])"
   ]
  },
  {
   "cell_type": "code",
   "execution_count": 434,
   "metadata": {
    "collapsed": false,
    "deletable": true,
    "editable": true
   },
   "outputs": [
    {
     "data": {
      "text/plain": [
       "<matplotlib.image.AxesImage at 0x117d3d5f8>"
      ]
     },
     "execution_count": 434,
     "metadata": {},
     "output_type": "execute_result"
    }
   ],
   "source": [
    "plt.imshow(lbls)"
   ]
  },
  {
   "cell_type": "code",
   "execution_count": 435,
   "metadata": {
    "collapsed": false,
    "deletable": true,
    "editable": true
   },
   "outputs": [
    {
     "data": {
      "image/png": "[encoded data removed]",
      "text/plain": [
       "<matplotlib.figure.Figure at 0x12776d8d0>"
      ]
     },
     "metadata": {},
     "output_type": "display_data"
    }
   ],
   "source": [
    "plt.show()"
   ]
  },
  {
   "cell_type": "code",
   "execution_count": null,
   "metadata": {
    "collapsed": true,
    "deletable": true,
    "editable": true
   },
   "outputs": [],
   "source": []
  }
 ],
 "metadata": {
  "kernelspec": {
   "display_name": "Python 3",
   "language": "python",
   "name": "python3"
  },
  "language_info": {
   "codemirror_mode": {
    "name": "ipython",
    "version": 3
   },
   "file_extension": ".py",
   "mimetype": "text/x-python",
   "name": "python",
   "nbconvert_exporter": "python",
   "pygments_lexer": "ipython3",
   "version": "3.4.0"
  }
 },
 "nbformat": 4,
 "nbformat_minor": 2
}
